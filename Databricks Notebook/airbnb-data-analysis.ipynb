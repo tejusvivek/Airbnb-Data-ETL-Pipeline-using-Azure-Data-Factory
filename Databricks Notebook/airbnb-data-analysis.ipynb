{
 "cells": [
  {
   "cell_type": "code",
   "execution_count": 0,
   "metadata": {
    "application/vnd.databricks.v1+cell": {
     "cellMetadata": {
      "byteLimit": 2048000,
      "rowLimit": 10000
     },
     "inputWidgets": {},
     "nuid": "3d5f2fb0-ef82-47e2-b266-a330d473cbfd",
     "showTitle": true,
     "tableResultSettingsMap": {},
     "title": "Create mountPoint for Staging (GOLD) Container"
    }
   },
   "outputs": [
    {
     "output_type": "stream",
     "name": "stdout",
     "output_type": "stream",
     "text": [
      "[REDACTED]\nMount Point Exists, Unmounting and Re-Mounting\n Mount failed: An error occurred while calling o435.mount.\n: java.rmi.RemoteException: java.lang.IllegalArgumentException: requirement failed: Directory already mounted: /mnt/adls12s/gold; nested exception is: \n\tjava.lang.IllegalArgumentException: requirement failed: Directory already mounted: /mnt/adls12s/gold\n\tat com.databricks.backend.daemon.data.client.DbfsClient.send0(DbfsClient.scala:148)\n\tat com.databricks.backend.daemon.data.client.DbfsClient.sendIdempotent(DbfsClient.scala:70)\n\tat com.databricks.backend.daemon.dbutils.DBUtilsCore.createOrUpdateMount(DBUtilsCore.scala:1142)\n\tat com.databricks.backend.daemon.dbutils.DBUtilsCore.$anonfun$mount$1(DBUtilsCore.scala:1168)\n\tat com.databricks.logging.UsageLogging.$anonfun$recordOperation$1(UsageLogging.scala:527)\n\tat com.databricks.logging.UsageLogging.executeThunkAndCaptureResultTags$1(UsageLogging.scala:631)\n\tat com.databricks.logging.UsageLogging.$anonfun$recordOperationWithResultTags$4(UsageLogging.scala:651)\n\tat com.databricks.logging.AttributionContextTracing.$anonfun$withAttributionContext$1(AttributionContextTracing.scala:48)\n\tat com.databricks.logging.AttributionContext$.$anonfun$withValue$1(AttributionContext.scala:276)\n\tat scala.util.DynamicVariable.withValue(DynamicVariable.scala:62)\n\tat com.databricks.logging.AttributionContext$.withValue(AttributionContext.scala:272)\n\tat com.databricks.logging.AttributionContextTracing.withAttributionContext(AttributionContextTracing.scala:46)\n\tat com.databricks.logging.AttributionContextTracing.withAttributionContext$(AttributionContextTracing.scala:43)\n\tat com.databricks.backend.daemon.dbutils.FSUtils.withAttributionContext(DBUtilsCore.scala:74)\n\tat com.databricks.logging.AttributionContextTracing.withAttributionTags(AttributionContextTracing.scala:95)\n\tat com.databricks.logging.AttributionContextTracing.withAttributionTags$(AttributionContextTracing.scala:76)\n\tat com.databricks.backend.daemon.dbutils.FSUtils.withAttributionTags(DBUtilsCore.scala:74)\n\tat com.databricks.logging.UsageLogging.recordOperationWithResultTags(UsageLogging.scala:626)\n\tat com.databricks.logging.UsageLogging.recordOperationWithResultTags$(UsageLogging.scala:536)\n\tat com.databricks.backend.daemon.dbutils.FSUtils.recordOperationWithResultTags(DBUtilsCore.scala:74)\n\tat com.databricks.logging.UsageLogging.recordOperation(UsageLogging.scala:528)\n\tat com.databricks.logging.UsageLogging.recordOperation$(UsageLogging.scala:496)\n\tat com.databricks.backend.daemon.dbutils.FSUtils.recordOperation(DBUtilsCore.scala:74)\n\tat com.databricks.backend.daemon.dbutils.FSUtils.recordDbutilsFsOp(DBUtilsCore.scala:138)\n\tat com.databricks.backend.daemon.dbutils.DBUtilsCore.mount(DBUtilsCore.scala:1162)\n\tat sun.reflect.NativeMethodAccessorImpl.invoke0(Native Method)\n\tat sun.reflect.NativeMethodAccessorImpl.invoke(NativeMethodAccessorImpl.java:62)\n\tat sun.reflect.DelegatingMethodAccessorImpl.invoke(DelegatingMethodAccessorImpl.java:43)\n\tat java.lang.reflect.Method.invoke(Method.java:498)\n\tat py4j.reflection.MethodInvoker.invoke(MethodInvoker.java:244)\n\tat py4j.reflection.ReflectionEngine.invoke(ReflectionEngine.java:397)\n\tat py4j.Gateway.invoke(Gateway.java:306)\n\tat py4j.commands.AbstractCommand.invokeMethod(AbstractCommand.java:132)\n\tat py4j.commands.CallCommand.execute(CallCommand.java:79)\n\tat py4j.ClientServerConnection.waitForCommands(ClientServerConnection.java:199)\n\tat py4j.ClientServerConnection.run(ClientServerConnection.java:119)\n\tat java.lang.Thread.run(Thread.java:750)\nCaused by: java.lang.IllegalArgumentException: requirement failed: Directory already mounted: /mnt/adls12s/gold\n\tat scala.Predef$.require(Predef.scala:281)\n\tat com.databricks.backend.daemon.data.server.DefaultMetadataManager.$anonfun$insertMount$1(MetadataManager.scala:800)\n\tat com.databricks.backend.daemon.data.server.DefaultMetadataManager.$anonfun$modifyAndVerify$2(MetadataManager.scala:1182)\n\tat scala.runtime.java8.JFunction0$mcV$sp.apply(JFunction0$mcV$sp.java:23)\n\tat com.databricks.backend.daemon.data.server.DefaultMetadataManager.withRetries(MetadataManager.scala:955)\n\tat com.databricks.backend.daemon.data.server.DefaultMetadataManager.modifyAndVerify(MetadataManager.scala:1171)\n\tat com.databricks.backend.daemon.data.server.DefaultMetadataManager.insertMount(MetadataManager.scala:808)\n\tat com.databricks.backend.daemon.data.server.handler.MountHandler.receive(MountHandler.scala:128)\n\tat com.databricks.backend.daemon.data.server.session.SessionContext.$anonfun$queryHandlers$1(SessionContext.scala:54)\n\tat com.databricks.backend.daemon.data.server.session.SessionContext.$anonfun$queryHandlers$1$adapted(SessionContext.scala:53)\n\tat scala.collection.immutable.List.foreach(List.scala:431)\n\tat com.databricks.backend.daemon.data.server.session.SessionContext.queryHandlers(SessionContext.scala:53)\n\tat com.databricks.backend.daemon.data.server.DbfsServerBackend$$anonfun$receive$4.$anonfun$applyOrElse$10(DbfsServerBackend.scala:451)\n\tat com.databricks.logging.AttributionContextTracing.$anonfun$withAttributionContext$1(AttributionContextTracing.scala:48)\n\tat com.databricks.logging.AttributionContext$.$anonfun$withValue$1(AttributionContext.scala:271)\n\tat scala.util.DynamicVariable.withValue(DynamicVariable.scala:62)\n\tat com.databricks.logging.AttributionContext$.withValue(AttributionContext.scala:267)\n\tat com.databricks.logging.AttributionContextTracing.withAttributionContext(AttributionContextTracing.scala:46)\n\tat com.databricks.logging.AttributionContextTracing.withAttributionContext$(AttributionContextTracing.scala:43)\n\tat com.databricks.rpc.ServerBackend.withAttributionContext(ServerBackend.scala:22)\n\tat com.databricks.logging.AttributionContextTracing.withAttributionTags(AttributionContextTracing.scala:95)\n\tat com.databricks.logging.AttributionContextTracing.withAttributionTags$(AttributionContextTracing.scala:76)\n\tat com.databricks.rpc.ServerBackend.withAttributionTags(ServerBackend.scala:22)\n\tat com.databricks.backend.daemon.data.server.DbfsServerBackend$$anonfun$receive$4.applyOrElse(DbfsServerBackend.scala:451)\n\tat com.databricks.backend.daemon.data.server.DbfsServerBackend$$anonfun$receive$4.applyOrElse(DbfsServerBackend.scala:344)\n\tat com.databricks.rpc.ServerBackend.$anonfun$internalReceive0$2(ServerBackend.scala:174)\n\tat com.databricks.rpc.ServerBackend$$anonfun$commonReceive$1.applyOrElse(ServerBackend.scala:200)\n\tat com.databricks.rpc.ServerBackend$$anonfun$commonReceive$1.applyOrElse(ServerBackend.scala:200)\n\tat com.databricks.rpc.ServerBackend.internalReceive0(ServerBackend.scala:171)\n\tat com.databricks.rpc.ServerBackend.$anonfun$internalReceive$1(ServerBackend.scala:147)\n\tat com.databricks.logging.UsageLogging.$anonfun$recordOperation$1(UsageLogging.scala:508)\n\tat com.databricks.logging.UsageLogging.executeThunkAndCaptureResultTags$1(UsageLogging.scala:613)\n\tat com.databricks.logging.UsageLogging.$anonfun$recordOperationWithResultTags$4(UsageLogging.scala:636)\n\tat com.databricks.logging.AttributionContextTracing.$anonfun$withAttributionContext$1(AttributionContextTracing.scala:48)\n\tat com.databricks.logging.AttributionContext$.$anonfun$withValue$1(AttributionContext.scala:271)\n\tat scala.util.DynamicVariable.withValue(DynamicVariable.scala:62)\n\tat com.databricks.logging.AttributionContext$.withValue(AttributionContext.scala:267)\n\tat com.databricks.logging.AttributionContextTracing.withAttributionContext(AttributionContextTracing.scala:46)\n\tat com.databricks.logging.AttributionContextTracing.withAttributionContext$(AttributionContextTracing.scala:43)\n\tat com.databricks.rpc.ServerBackend.withAttributionContext(ServerBackend.scala:22)\n\tat com.databricks.logging.AttributionContextTracing.withAttributionTags(AttributionContextTracing.scala:95)\n\tat com.databricks.logging.AttributionContextTracing.withAttributionTags$(AttributionContextTracing.scala:76)\n\tat com.databricks.rpc.ServerBackend.withAttributionTags(ServerBackend.scala:22)\n\tat com.databricks.logging.UsageLogging.recordOperationWithResultTags(UsageLogging.scala:608)\n\tat com.databricks.logging.UsageLogging.recordOperationWithResultTags$(UsageLogging.scala:517)\n\tat com.databricks.rpc.ServerBackend.recordOperationWithResultTags(ServerBackend.scala:22)\n\tat com.databricks.logging.UsageLogging.recordOperation(UsageLogging.scala:509)\n\tat com.databricks.logging.UsageLogging.recordOperation$(UsageLogging.scala:475)\n\tat com.databricks.rpc.ServerBackend.recordOperation(ServerBackend.scala:22)\n\tat com.databricks.rpc.ServerBackend.internalReceive(ServerBackend.scala:146)\n\tat com.databricks.rpc.JettyServer$RequestManager.handleRPC(JettyServer.scala:1032)\n\tat com.databricks.rpc.JettyServer$RequestManager.handleRequestAndRespond(JettyServer.scala:952)\n\tat com.databricks.rpc.JettyServer$RequestManager.$anonfun$handleHttp$6(JettyServer.scala:552)\n\tat com.databricks.rpc.JettyServer$RequestManager.$anonfun$handleHttp$6$adapted(JettyServer.scala:521)\n\tat com.databricks.logging.activity.ActivityContextFactory$.$anonfun$withActivityInternal$8(ActivityContextFactory.scala:681)\n\tat com.databricks.logging.AttributionContextTracing.$anonfun$withAttributionContext$1(AttributionContextTracing.scala:48)\n\tat com.databricks.logging.AttributionContext$.$anonfun$withValue$1(AttributionContext.scala:271)\n\tat scala.util.DynamicVariable.withValue(DynamicVariable.scala:62)\n\tat com.databricks.logging.AttributionContext$.withValue(AttributionContext.scala:267)\n\tat com.databricks.logging.AttributionContextTracing.withAttributionContext(AttributionContextTracing.scala:46)\n\tat com.databricks.logging.AttributionContextTracing.withAttributionContext$(AttributionContextTracing.scala:43)\n\tat com.databricks.logging.activity.ActivityContextFactory$.withAttributionContext(ActivityContextFactory.scala:47)\n\tat com.databricks.logging.activity.ActivityContextFactory$.$anonfun$withActivityInternal$2(ActivityContextFactory.scala:681)\n\tat com.databricks.context.integrity.IntegrityCheckContext$ThreadLocalStorage$.withValue(IntegrityCheckContext.scala:73)\n\tat com.databricks.logging.activity.ActivityContextFactory$.withActivityInternal(ActivityContextFactory.scala:652)\n\tat com.databricks.logging.activity.ActivityContextFactory$.withActivityInternal(ActivityContextFactory.scala:634)\n\tat com.databricks.logging.activity.ActivityContextFactory$.withServiceRequestActivity(ActivityContextFactory.scala:253)\n\tat com.databricks.rpc.JettyServer$RequestManager.handleHttp(JettyServer.scala:521)\n\tat com.databricks.rpc.JettyServer$RequestManager.doPost(JettyServer.scala:411)\n\tat javax.servlet.http.HttpServlet.service(HttpServlet.java:665)\n\tat com.databricks.rpc.HttpServletWithPatch.service(HttpServletWithPatch.scala:33)\n\tat javax.servlet.http.HttpServlet.service(HttpServlet.java:750)\n\tat org.eclipse.jetty.servlet.ServletHolder.handle(ServletHolder.java:799)\n\tat org.eclipse.jetty.servlet.ServletHandler.doHandle(ServletHandler.java:554)\n\tat org.eclipse.jetty.server.handler.ScopedHandler.nextScope(ScopedHandler.java:190)\n\tat org.eclipse.jetty.servlet.ServletHandler.doScope(ServletHandler.java:505)\n\tat org.eclipse.jetty.server.handler.ScopedHandler.handle(ScopedHandler.java:141)\n\tat org.eclipse.jetty.server.handler.HandlerWrapper.handle(HandlerWrapper.java:127)\n\tat org.eclipse.jetty.server.Server.handle(Server.java:516)\n\tat org.eclipse.jetty.server.HttpChannel.lambda$handle$1(HttpChannel.java:487)\n\tat org.eclipse.jetty.server.HttpChannel.dispatch(HttpChannel.java:732)\n\tat org.eclipse.jetty.server.HttpChannel.handle(HttpChannel.java:479)\n\tat org.eclipse.jetty.server.HttpConnection.onFillable(HttpConnection.java:277)\n\tat org.eclipse.jetty.io.AbstractConnection$ReadCallback.succeeded(AbstractConnection.java:311)\n\tat org.eclipse.jetty.io.FillInterest.fillable(FillInterest.java:105)\n\tat org.eclipse.jetty.io.ChannelEndPoint$1.run(ChannelEndPoint.java:104)\n\tat org.eclipse.jetty.util.thread.strategy.EatWhatYouKill.runTask(EatWhatYouKill.java:338)\n\tat org.eclipse.jetty.util.thread.strategy.EatWhatYouKill.doProduce(EatWhatYouKill.java:315)\n\tat org.eclipse.jetty.util.thread.strategy.EatWhatYouKill.tryProduce(EatWhatYouKill.java:173)\n\tat org.eclipse.jetty.util.thread.strategy.EatWhatYouKill.run(EatWhatYouKill.java:131)\n\tat org.eclipse.jetty.util.thread.ReservedThreadExecutor$ReservedThread.run(ReservedThreadExecutor.java:409)\n\tat com.databricks.rpc.InstrumentedQueuedThreadPool$$anon$1.$anonfun$run$2(InstrumentedQueuedThreadPool.scala:110)\n\tat scala.runtime.java8.JFunction0$mcV$sp.apply(JFunction0$mcV$sp.java:23)\n\tat com.databricks.logging.AttributionContextTracing.$anonfun$withAttributionContext$1(AttributionContextTracing.scala:48)\n\tat com.databricks.logging.AttributionContext$.$anonfun$withValue$1(AttributionContext.scala:271)\n\tat scala.util.DynamicVariable.withValue(DynamicVariable.scala:62)\n\tat com.databricks.logging.AttributionContext$.withValue(AttributionContext.scala:267)\n\tat com.databricks.logging.AttributionContextTracing.withAttributionContext(AttributionContextTracing.scala:46)\n\tat com.databricks.logging.AttributionContextTracing.withAttributionContext$(AttributionContextTracing.scala:43)\n\tat com.databricks.rpc.InstrumentedQueuedThreadPool.withAttributionContext(InstrumentedQueuedThreadPool.scala:45)\n\tat com.databricks.rpc.InstrumentedQueuedThreadPool$$anon$1.$anonfun$run$1(InstrumentedQueuedThreadPool.scala:110)\n\tat scala.runtime.java8.JFunction0$mcV$sp.apply(JFunction0$mcV$sp.java:23)\n\tat com.databricks.instrumentation.QueuedThreadPoolInstrumenter.trackActiveThreads(QueuedThreadPoolInstrumenter.scala:126)\n\tat com.databricks.instrumentation.QueuedThreadPoolInstrumenter.trackActiveThreads$(QueuedThreadPoolInstrumenter.scala:123)\n\tat com.databricks.rpc.InstrumentedQueuedThreadPool.trackActiveThreads(InstrumentedQueuedThreadPool.scala:45)\n\tat com.databricks.rpc.InstrumentedQueuedThreadPool$$anon$1.run(InstrumentedQueuedThreadPool.scala:92)\n\tat org.eclipse.jetty.util.thread.QueuedThreadPool.runJob(QueuedThreadPool.java:883)\n\tat org.eclipse.jetty.util.thread.QueuedThreadPool$Runner.run(QueuedThreadPool.java:1034)\n\tat java.lang.Thread.run(Thread.java:840)\n\n\nMount point exists\n/mnt/adls12s/gold/ has been unmounted.\nUnmounted Successfully\nMounted Successfully\nMount succeeded: [MountInfo(mountPoint='/mnt/adls12s/gold/', source='abfss://gold@adls12s.dfs.core.windows.net/', encryptionType=''), MountInfo(mountPoint='/databricks-datasets', source='databricks-datasets', encryptionType=''), MountInfo(mountPoint='/Volumes', source='UnityCatalogVolumes', encryptionType=''), MountInfo(mountPoint='/databricks/mlflow-tracking', source='databricks/mlflow-tracking', encryptionType=''), MountInfo(mountPoint='/mnt/adls12s/source/', source='abfss://source@adls12s.dfs.core.windows.net/', encryptionType=''), MountInfo(mountPoint='/databricks-results', source='databricks-results', encryptionType=''), MountInfo(mountPoint='/databricks/mlflow-registry', source='databricks/mlflow-registry', encryptionType=''), MountInfo(mountPoint='/Volume', source='DbfsReserved', encryptionType=''), MountInfo(mountPoint='/mnt/adls2sc/raw/', source='abfss://raw@adls2sc.dfs.core.windows.net/', encryptionType=''), MountInfo(mountPoint='/volumes', source='DbfsReserved', encryptionType=''), MountInfo(mountPoint='/', source='DatabricksRoot', encryptionType=''), MountInfo(mountPoint='/volume', source='DbfsReserved', encryptionType=''), MountInfo(mountPoint='/mnt/adls12s/raw/', source='abfss://raw@adls12s.dfs.core.windows.net/', encryptionType='')]\n"
     ]
    }
   ],
   "source": [
    "application_id = \"bada1f1e-8aaa-4bb1-8d1b-72b6101283f6\"\n",
    "directory_id = \"4249dcf4-f4a1-44f9-940d-14b50a777dd8\"\n",
    "#display(dbutils.secrets.listScopes())\n",
    "#display(dbutils.secrets.list(scope=\"practice\"))\n",
    "service_credential = dbutils.secrets.get(scope=\"practice\", key=\"adls-key\")\n",
    "print(service_credential)\n",
    "\n",
    "spark.conf.set(\"fs.azure.account.auth.type.adls12s.dfs.core.windows.net\", \"OAuth\")\n",
    "spark.conf.set(\"fs.azure.account.oauth.provider.type.adls12s.dfs.core.windows.net\", \"org.apache.hadoop.fs.azurebfs.oauth2.ClientCredsTokenProvider\")\n",
    "spark.conf.set(\"fs.azure.account.oauth2.client.id.adls12s.dfs.core.windows.net\", application_id)\n",
    "spark.conf.set(\"fs.azure.account.oauth2.client.secret.adls12s.dfs.core.windows.net\", service_credential)\n",
    "spark.conf.set(\"fs.azure.account.oauth2.client.endpoint.adls12s.dfs.core.windows.net\", f\"https://login.microsoftonline.com/{directory_id}/oauth2/token\")\n",
    "\n",
    "configs = {\"fs.azure.account.auth.type\": \"OAuth\",\n",
    "          \"fs.azure.account.oauth.provider.type\": \"org.apache.hadoop.fs.azurebfs.oauth2.ClientCredsTokenProvider\",\n",
    "          \"fs.azure.account.oauth2.client.id\": application_id,\n",
    "          \"fs.azure.account.oauth2.client.secret\": service_credential,\n",
    "          \"fs.azure.account.oauth2.client.endpoint\": f\"https://login.microsoftonline.com/{directory_id}/oauth2/token\"}\n",
    "\n",
    "\n",
    "def checkIfMounted(mounts):\n",
    "    if(any(mount.mountPoint == \"/mnt/adls12s/gold/\" for mount in mounts )):\n",
    "        print(\"Mount point exists\")\n",
    "        dbutils.fs.unmount(\"/mnt/adls12s/gold/\")\n",
    "        print(\"Unmounted Successfully\")\n",
    "        dbutils.fs.mount(source = \"abfss://gold@adls12s.dfs.core.windows.net/\", mount_point = \"/mnt/adls12s/gold/\", extra_configs = configs)\n",
    "        print(\"Mounted Successfully\")\n",
    "        print(f\"Mount succeeded: {mountsList}\")\n",
    "    else:\n",
    "        print(\"Mount point does not exist\")\n",
    "        dbutils.fs.mount(source = \"abfss://gold@adls12s.dfs.core.windows.net/\", mount_point = \"/mnt/adls12s/gold/\", extra_configs = configs)\n",
    "        print(\"Mounted Successfully\")\n",
    "        print(f\"Mount succeeded: {mountsList}\")\n",
    "\n",
    "try:\n",
    "    mountsList = dbutils.fs.mounts()\n",
    "    dbutils.fs.mount(source=\"abfss://gold@adls12s.dfs.core.windows.net/\", mount_point=\"/mnt/adls12s/gold/\", extra_configs=configs)\n",
    "    print(f\"Mount succeeded: {mountsList}\")\n",
    "except Exception as e:\n",
    "    print(f\"Mount Point Exists, Unmounting and Re-Mounting\\n Mount failed: {e}\\n\")\n",
    "    checkIfMounted(mountsList)\n",
    "\n"
   ]
  },
  {
   "cell_type": "code",
   "execution_count": 0,
   "metadata": {
    "application/vnd.databricks.v1+cell": {
     "cellMetadata": {
      "byteLimit": 2048000,
      "rowLimit": 10000
     },
     "inputWidgets": {},
     "nuid": "cde9e1d0-2c6d-4319-adc5-0f5f01aac850",
     "showTitle": false,
     "tableResultSettingsMap": {},
     "title": ""
    }
   },
   "outputs": [
    {
     "output_type": "display_data",
     "data": {
      "text/html": [
       "<style scoped>\n",
       "  .table-result-container {\n",
       "    max-height: 300px;\n",
       "    overflow: auto;\n",
       "  }\n",
       "  table, th, td {\n",
       "    border: 1px solid black;\n",
       "    border-collapse: collapse;\n",
       "  }\n",
       "  th, td {\n",
       "    padding: 5px;\n",
       "  }\n",
       "  th {\n",
       "    text-align: left;\n",
       "  }\n",
       "</style><div class='table-result-container'><table class='table-result'><thead style='background-color: white'><tr><th>id</th><th>host_id</th><th>neighbourhood_group</th><th>neighbourhood</th><th>latitude</th><th>longitude</th><th>room_type</th><th>price</th><th>minimum_nights</th><th>number_of_reviews</th><th>last_review</th><th>reviews_per_month</th><th>availability_365</th></tr></thead><tbody><tr><td>35732847</td><td>102263916</td><td>Staten Island</td><td>Tompkinsville</td><td>40.632808685302734</td><td>-74.09131622314453</td><td>Private room</td><td>50</td><td>1</td><td>4</td><td>2019-07-07</td><td>4.0</td><td>84</td></tr><tr><td>35619073</td><td>256966373</td><td>Staten Island</td><td>St. George</td><td>40.64331817626953</td><td>-74.07811737060547</td><td>Entire home/apt</td><td>100</td><td>3</td><td>1</td><td>2019-06-20</td><td>1.0</td><td>201</td></tr><tr><td>35489384</td><td>236186921</td><td>Staten Island</td><td>Tottenville</td><td>40.50640869140625</td><td>-74.2305908203125</td><td>Entire home/apt</td><td>75</td><td>1</td><td>1</td><td>2019-06-28</td><td>1.0</td><td>299</td></tr><tr><td>35455986</td><td>63227531</td><td>Staten Island</td><td>Randall Manor</td><td>40.628448486328125</td><td>-74.12294006347656</td><td>Entire home/apt</td><td>99</td><td>2</td><td>1</td><td>2019-06-20</td><td>1.0</td><td>342</td></tr><tr><td>35224304</td><td>43099837</td><td>Staten Island</td><td>Grymes Hill</td><td>40.61568832397461</td><td>-74.08956909179688</td><td>Entire home/apt</td><td>125</td><td>2</td><td>1</td><td>2019-06-28</td><td>1.0</td><td>44</td></tr></tbody></table></div>"
      ]
     },
     "metadata": {
      "application/vnd.databricks.v1+output": {
       "addedWidgets": {},
       "aggData": [],
       "aggError": "",
       "aggOverflow": false,
       "aggSchema": [],
       "aggSeriesLimitReached": false,
       "aggType": "",
       "arguments": {},
       "columnCustomDisplayInfos": {},
       "data": [
        [
         35732847,
         102263916,
         "Staten Island",
         "Tompkinsville",
         40.632808685302734,
         -74.09131622314453,
         "Private room",
         50,
         1,
         4,
         "2019-07-07",
         4.0,
         84
        ],
        [
         35619073,
         256966373,
         "Staten Island",
         "St. George",
         40.64331817626953,
         -74.07811737060547,
         "Entire home/apt",
         100,
         3,
         1,
         "2019-06-20",
         1.0,
         201
        ],
        [
         35489384,
         236186921,
         "Staten Island",
         "Tottenville",
         40.50640869140625,
         -74.2305908203125,
         "Entire home/apt",
         75,
         1,
         1,
         "2019-06-28",
         1.0,
         299
        ],
        [
         35455986,
         63227531,
         "Staten Island",
         "Randall Manor",
         40.628448486328125,
         -74.12294006347656,
         "Entire home/apt",
         99,
         2,
         1,
         "2019-06-20",
         1.0,
         342
        ],
        [
         35224304,
         43099837,
         "Staten Island",
         "Grymes Hill",
         40.61568832397461,
         -74.08956909179688,
         "Entire home/apt",
         125,
         2,
         1,
         "2019-06-28",
         1.0,
         44
        ]
       ],
       "datasetInfos": [],
       "dbfsResultPath": null,
       "isJsonSchema": true,
       "metadata": {},
       "overflow": false,
       "plotOptions": {
        "customPlotOptions": {},
        "displayType": "table",
        "pivotAggregation": null,
        "pivotColumns": null,
        "xColumns": null,
        "yColumns": null
       },
       "removedWidgets": [],
       "schema": [
        {
         "metadata": "{}",
         "name": "id",
         "type": "\"long\""
        },
        {
         "metadata": "{}",
         "name": "host_id",
         "type": "\"long\""
        },
        {
         "metadata": "{}",
         "name": "neighbourhood_group",
         "type": "\"string\""
        },
        {
         "metadata": "{}",
         "name": "neighbourhood",
         "type": "\"string\""
        },
        {
         "metadata": "{}",
         "name": "latitude",
         "type": "\"double\""
        },
        {
         "metadata": "{}",
         "name": "longitude",
         "type": "\"double\""
        },
        {
         "metadata": "{}",
         "name": "room_type",
         "type": "\"string\""
        },
        {
         "metadata": "{}",
         "name": "price",
         "type": "\"long\""
        },
        {
         "metadata": "{}",
         "name": "minimum_nights",
         "type": "\"long\""
        },
        {
         "metadata": "{}",
         "name": "number_of_reviews",
         "type": "\"long\""
        },
        {
         "metadata": "{}",
         "name": "last_review",
         "type": "\"date\""
        },
        {
         "metadata": "{}",
         "name": "reviews_per_month",
         "type": "\"double\""
        },
        {
         "metadata": "{}",
         "name": "availability_365",
         "type": "\"long\""
        }
       ],
       "type": "table"
      }
     },
     "output_type": "display_data"
    }
   ],
   "source": [
    "#Reading data from ADLS\n",
    "df = spark.read.format(\"delta\").load(\"abfss://silver@adls12s.dfs.core.windows.net/airbnb_cleaned_data/\")\n",
    "display(df.head(5))\n",
    "df.toPandas().shape\n",
    "df.createOrReplaceTempView(\"airbnb_data\")"
   ]
  },
  {
   "cell_type": "code",
   "execution_count": 0,
   "metadata": {
    "application/vnd.databricks.v1+cell": {
     "cellMetadata": {
      "byteLimit": 2048000,
      "rowLimit": 10000
     },
     "inputWidgets": {},
     "nuid": "90042ed8-67f2-4f1c-b338-d3a05af79f09",
     "showTitle": false,
     "tableResultSettingsMap": {},
     "title": ""
    }
   },
   "outputs": [
    {
     "output_type": "stream",
     "name": "stdout",
     "output_type": "stream",
     "text": [
      "+---------+-------------------+------------------+\n|num_hosts|neighbourhood_group|         avg_price|\n+---------+-------------------+------------------+\n|    16564|          Manhattan|  180.192948563149|\n|    16395|           Brooklyn|121.48752668496493|\n|     4538|             Queens| 95.83494931687969|\n|      311|      Staten Island| 90.42443729903538|\n|      864|              Bronx| 79.74768518518519|\n+---------+-------------------+------------------+\n\n"
     ]
    }
   ],
   "source": [
    "#Check the average price and number of hosts in each neighbourhood\n",
    "neighbourhood_df = spark.sql(\"SELECT COUNT(host_id) AS num_hosts, neighbourhood_group, avg(price) AS avg_price FROM airbnb_data GROUP BY neighbourhood_group ORDER BY avg(price) DESC\")\n",
    "neighbourhood_df.show()"
   ]
  },
  {
   "cell_type": "code",
   "execution_count": 0,
   "metadata": {
    "application/vnd.databricks.v1+cell": {
     "cellMetadata": {
      "byteLimit": 2048000,
      "rowLimit": 10000
     },
     "inputWidgets": {},
     "nuid": "45c3f291-aa64-40ce-9645-ba8afcfb4d90",
     "showTitle": false,
     "tableResultSettingsMap": {},
     "title": ""
    }
   },
   "outputs": [
    {
     "output_type": "stream",
     "name": "stdout",
     "output_type": "stream",
     "text": [
      "+-------------------+------------------+------------------+-----------------+\n|neighbourhood_group|   Entire home/apt|      Private room|      Shared room|\n+-------------------+------------------+------------------+-----------------+\n|             Queens|139.30791450028886| 69.27146084337349|64.71523178807946|\n|           Brooklyn|171.30928975178176| 73.36387598845236|45.45862068965517|\n|      Staten Island|125.36666666666666| 57.87820512820513|             57.6|\n|          Manhattan|230.26423827731938|106.63329081632654| 77.8135593220339|\n|              Bronx|121.33114754098361| 57.06976744186046|56.93023255813954|\n+-------------------+------------------+------------------+-----------------+\n\n"
     ]
    }
   ],
   "source": [
    "#Create a Pivot table for room_type, neighbourhood_group and price\n",
    "pivot_df = spark.sql(\"SELECT neighbourhood_group, room_type, AVG(price) AS avg_price FROM airbnb_data GROUP BY neighbourhood_group, room_type\")\n",
    "pivot_df = pivot_df.groupBy(\"neighbourhood_group\").pivot(\"room_type\").agg({\"avg_price\": \"avg\"})\n",
    "pivot_df.show()"
   ]
  },
  {
   "cell_type": "code",
   "execution_count": 0,
   "metadata": {
    "application/vnd.databricks.v1+cell": {
     "cellMetadata": {
      "byteLimit": 2048000,
      "rowLimit": 10000
     },
     "inputWidgets": {},
     "nuid": "46162f7d-7135-4dad-b859-0365810bd568",
     "showTitle": false,
     "tableResultSettingsMap": {},
     "title": ""
    }
   },
   "outputs": [
    {
     "output_type": "stream",
     "name": "stdout",
     "output_type": "stream",
     "text": [
      "+------------------+------------+\n|     neighbourhood|num_listings|\n+------------------+------------+\n|      Williamsburg|        3157|\n|Bedford-Stuyvesant|        3132|\n|            Harlem|        2190|\n|          Bushwick|        1937|\n|    Hell's Kitchen|        1520|\n|      East Village|        1488|\n|   Upper West Side|        1481|\n|   Upper East Side|        1399|\n|     Crown Heights|        1261|\n|           Midtown|         984|\n|       East Harlem|         938|\n|        Greenpoint|         866|\n|           Chelsea|         825|\n|   Lower East Side|         738|\n|Washington Heights|         717|\n|           Astoria|         707|\n|      West Village|         609|\n|Financial District|         509|\n|          Flatbush|         494|\n|      Clinton Hill|         479|\n+------------------+------------+\nonly showing top 20 rows\n\n"
     ]
    }
   ],
   "source": [
    "#finding out listings for each neighbourhood\n",
    "spark.sql(\"SELECT neighbourhood, COUNT(neighbourhood) as num_listings from airbnb_data GROUP BY neighbourhood ORDER BY COUNT(neighbourhood) DESC\").show()"
   ]
  },
  {
   "cell_type": "code",
   "execution_count": 0,
   "metadata": {
    "application/vnd.databricks.v1+cell": {
     "cellMetadata": {
      "byteLimit": 2048000,
      "rowLimit": 10000
     },
     "inputWidgets": {},
     "nuid": "aa9b953c-3c62-4ccb-8e8d-d5015983a6a9",
     "showTitle": false,
     "tableResultSettingsMap": {},
     "title": ""
    }
   },
   "outputs": [
    {
     "output_type": "stream",
     "name": "stdout",
     "output_type": "stream",
     "text": [
      "+---------------------+---------------------------+-----------------+\n|unique_neighbourhoods|unique_neighbourhood_groups|unique_room_types|\n+---------------------+---------------------------+-----------------+\n|                  218|                          5|                3|\n+---------------------+---------------------------+-----------------+\n\n"
     ]
    },
    {
     "output_type": "display_data",
     "data": {
      "text/html": [
       "<style scoped>\n",
       "  .table-result-container {\n",
       "    max-height: 300px;\n",
       "    overflow: auto;\n",
       "  }\n",
       "  table, th, td {\n",
       "    border: 1px solid black;\n",
       "    border-collapse: collapse;\n",
       "  }\n",
       "  th, td {\n",
       "    padding: 5px;\n",
       "  }\n",
       "  th {\n",
       "    text-align: left;\n",
       "  }\n",
       "</style><div class='table-result-container'><table class='table-result'><thead style='background-color: white'><tr><th>id</th><th>host_id</th><th>neighbourhood_group</th><th>neighbourhood</th><th>latitude</th><th>longitude</th><th>room_type</th><th>price</th><th>minimum_nights</th><th>number_of_reviews</th><th>last_review</th><th>reviews_per_month</th><th>availability_365</th><th>neighbourhood_group_indexed</th><th>neighbourhood_indexed</th><th>room_type_indexed</th><th>neighbourhood_group_encoded</th><th>neighbourhood_encoded</th><th>room_type_encoded</th></tr></thead><tbody><tr><td>19343700</td><td>135522817</td><td>Manhattan</td><td>Upper East Side</td><td>40.77412033081055</td><td>-73.95694732666016</td><td>Entire home/apt</td><td>198</td><td>1</td><td>143</td><td>2019-06-15</td><td>5.909999847412109</td><td>300</td><td>0.0</td><td>7.0</td><td>0.0</td><td>Map(vectorType -> sparse, length -> 4, indices -> List(0), values -> List(1.0))</td><td>Map(vectorType -> sparse, length -> 217, indices -> List(7), values -> List(1.0))</td><td>Map(vectorType -> sparse, length -> 2, indices -> List(0), values -> List(1.0))</td></tr><tr><td>19334916</td><td>7727013</td><td>Manhattan</td><td>Harlem</td><td>40.809791564941406</td><td>-73.94288635253906</td><td>Private room</td><td>200</td><td>3</td><td>2</td><td>2018-09-17</td><td>0.1599999964237213</td><td>24</td><td>0.0</td><td>2.0</td><td>1.0</td><td>Map(vectorType -> sparse, length -> 4, indices -> List(0), values -> List(1.0))</td><td>Map(vectorType -> sparse, length -> 217, indices -> List(2), values -> List(1.0))</td><td>Map(vectorType -> sparse, length -> 2, indices -> List(1), values -> List(1.0))</td></tr><tr><td>19333921</td><td>796111</td><td>Manhattan</td><td>West Village</td><td>40.73807907104492</td><td>-74.0025405883789</td><td>Entire home/apt</td><td>150</td><td>30</td><td>3</td><td>2018-05-29</td><td>0.1599999964237213</td><td>83</td><td>0.0</td><td>16.0</td><td>0.0</td><td>Map(vectorType -> sparse, length -> 4, indices -> List(0), values -> List(1.0))</td><td>Map(vectorType -> sparse, length -> 217, indices -> List(16), values -> List(1.0))</td><td>Map(vectorType -> sparse, length -> 2, indices -> List(0), values -> List(1.0))</td></tr><tr><td>19330704</td><td>134370506</td><td>Manhattan</td><td>Morningside Heights</td><td>40.81237030029297</td><td>-73.95984649658203</td><td>Private room</td><td>80</td><td>1</td><td>39</td><td>2019-07-06</td><td>1.559999942779541</td><td>13</td><td>0.0</td><td>36.0</td><td>1.0</td><td>Map(vectorType -> sparse, length -> 4, indices -> List(0), values -> List(1.0))</td><td>Map(vectorType -> sparse, length -> 217, indices -> List(36), values -> List(1.0))</td><td>Map(vectorType -> sparse, length -> 2, indices -> List(1), values -> List(1.0))</td></tr><tr><td>19329734</td><td>135401519</td><td>Manhattan</td><td>Kips Bay</td><td>40.740631103515625</td><td>-73.98204803466797</td><td>Entire home/apt</td><td>325</td><td>30</td><td>155</td><td>2019-06-19</td><td>6.21999979019165</td><td>240</td><td>0.0</td><td>26.0</td><td>0.0</td><td>Map(vectorType -> sparse, length -> 4, indices -> List(0), values -> List(1.0))</td><td>Map(vectorType -> sparse, length -> 217, indices -> List(26), values -> List(1.0))</td><td>Map(vectorType -> sparse, length -> 2, indices -> List(0), values -> List(1.0))</td></tr></tbody></table></div>"
      ]
     },
     "metadata": {
      "application/vnd.databricks.v1+output": {
       "addedWidgets": {},
       "aggData": [],
       "aggError": "",
       "aggOverflow": false,
       "aggSchema": [],
       "aggSeriesLimitReached": false,
       "aggType": "",
       "arguments": {},
       "columnCustomDisplayInfos": {},
       "data": [
        [
         19343700,
         135522817,
         "Manhattan",
         "Upper East Side",
         40.77412033081055,
         -73.95694732666016,
         "Entire home/apt",
         198,
         1,
         143,
         "2019-06-15",
         5.909999847412109,
         300,
         0.0,
         7.0,
         0.0,
         {
          "indices": [
           0
          ],
          "length": 4,
          "values": [
           1.0
          ],
          "vectorType": "sparse"
         },
         {
          "indices": [
           7
          ],
          "length": 217,
          "values": [
           1.0
          ],
          "vectorType": "sparse"
         },
         {
          "indices": [
           0
          ],
          "length": 2,
          "values": [
           1.0
          ],
          "vectorType": "sparse"
         }
        ],
        [
         19334916,
         7727013,
         "Manhattan",
         "Harlem",
         40.809791564941406,
         -73.94288635253906,
         "Private room",
         200,
         3,
         2,
         "2018-09-17",
         0.1599999964237213,
         24,
         0.0,
         2.0,
         1.0,
         {
          "indices": [
           0
          ],
          "length": 4,
          "values": [
           1.0
          ],
          "vectorType": "sparse"
         },
         {
          "indices": [
           2
          ],
          "length": 217,
          "values": [
           1.0
          ],
          "vectorType": "sparse"
         },
         {
          "indices": [
           1
          ],
          "length": 2,
          "values": [
           1.0
          ],
          "vectorType": "sparse"
         }
        ],
        [
         19333921,
         796111,
         "Manhattan",
         "West Village",
         40.73807907104492,
         -74.0025405883789,
         "Entire home/apt",
         150,
         30,
         3,
         "2018-05-29",
         0.1599999964237213,
         83,
         0.0,
         16.0,
         0.0,
         {
          "indices": [
           0
          ],
          "length": 4,
          "values": [
           1.0
          ],
          "vectorType": "sparse"
         },
         {
          "indices": [
           16
          ],
          "length": 217,
          "values": [
           1.0
          ],
          "vectorType": "sparse"
         },
         {
          "indices": [
           0
          ],
          "length": 2,
          "values": [
           1.0
          ],
          "vectorType": "sparse"
         }
        ],
        [
         19330704,
         134370506,
         "Manhattan",
         "Morningside Heights",
         40.81237030029297,
         -73.95984649658203,
         "Private room",
         80,
         1,
         39,
         "2019-07-06",
         1.559999942779541,
         13,
         0.0,
         36.0,
         1.0,
         {
          "indices": [
           0
          ],
          "length": 4,
          "values": [
           1.0
          ],
          "vectorType": "sparse"
         },
         {
          "indices": [
           36
          ],
          "length": 217,
          "values": [
           1.0
          ],
          "vectorType": "sparse"
         },
         {
          "indices": [
           1
          ],
          "length": 2,
          "values": [
           1.0
          ],
          "vectorType": "sparse"
         }
        ],
        [
         19329734,
         135401519,
         "Manhattan",
         "Kips Bay",
         40.740631103515625,
         -73.98204803466797,
         "Entire home/apt",
         325,
         30,
         155,
         "2019-06-19",
         6.21999979019165,
         240,
         0.0,
         26.0,
         0.0,
         {
          "indices": [
           0
          ],
          "length": 4,
          "values": [
           1.0
          ],
          "vectorType": "sparse"
         },
         {
          "indices": [
           26
          ],
          "length": 217,
          "values": [
           1.0
          ],
          "vectorType": "sparse"
         },
         {
          "indices": [
           0
          ],
          "length": 2,
          "values": [
           1.0
          ],
          "vectorType": "sparse"
         }
        ]
       ],
       "datasetInfos": [],
       "dbfsResultPath": null,
       "isJsonSchema": true,
       "metadata": {},
       "overflow": false,
       "plotOptions": {
        "customPlotOptions": {},
        "displayType": "table",
        "pivotAggregation": null,
        "pivotColumns": null,
        "xColumns": null,
        "yColumns": null
       },
       "removedWidgets": [],
       "schema": [
        {
         "metadata": "{}",
         "name": "id",
         "type": "\"long\""
        },
        {
         "metadata": "{}",
         "name": "host_id",
         "type": "\"long\""
        },
        {
         "metadata": "{}",
         "name": "neighbourhood_group",
         "type": "\"string\""
        },
        {
         "metadata": "{}",
         "name": "neighbourhood",
         "type": "\"string\""
        },
        {
         "metadata": "{}",
         "name": "latitude",
         "type": "\"double\""
        },
        {
         "metadata": "{}",
         "name": "longitude",
         "type": "\"double\""
        },
        {
         "metadata": "{}",
         "name": "room_type",
         "type": "\"string\""
        },
        {
         "metadata": "{}",
         "name": "price",
         "type": "\"long\""
        },
        {
         "metadata": "{}",
         "name": "minimum_nights",
         "type": "\"long\""
        },
        {
         "metadata": "{}",
         "name": "number_of_reviews",
         "type": "\"long\""
        },
        {
         "metadata": "{}",
         "name": "last_review",
         "type": "\"date\""
        },
        {
         "metadata": "{}",
         "name": "reviews_per_month",
         "type": "\"double\""
        },
        {
         "metadata": "{}",
         "name": "availability_365",
         "type": "\"long\""
        },
        {
         "metadata": "{}",
         "name": "neighbourhood_group_indexed",
         "type": "\"double\""
        },
        {
         "metadata": "{}",
         "name": "neighbourhood_indexed",
         "type": "\"double\""
        },
        {
         "metadata": "{}",
         "name": "room_type_indexed",
         "type": "\"double\""
        },
        {
         "metadata": "{}",
         "name": "neighbourhood_group_encoded",
         "type": "{\"type\":\"udt\",\"class\":\"org.apache.spark.ml.linalg.VectorUDT\",\"pyClass\":\"pyspark.ml.linalg.VectorUDT\",\"sqlType\":{\"type\":\"struct\",\"fields\":[{\"name\":\"type\",\"type\":\"byte\",\"nullable\":false,\"metadata\":{}},{\"name\":\"size\",\"type\":\"integer\",\"nullable\":true,\"metadata\":{}},{\"name\":\"indices\",\"type\":{\"type\":\"array\",\"elementType\":\"integer\",\"containsNull\":false},\"nullable\":true,\"metadata\":{}},{\"name\":\"values\",\"type\":{\"type\":\"array\",\"elementType\":\"double\",\"containsNull\":false},\"nullable\":true,\"metadata\":{}}]}}"
        },
        {
         "metadata": "{}",
         "name": "neighbourhood_encoded",
         "type": "{\"type\":\"udt\",\"class\":\"org.apache.spark.ml.linalg.VectorUDT\",\"pyClass\":\"pyspark.ml.linalg.VectorUDT\",\"sqlType\":{\"type\":\"struct\",\"fields\":[{\"name\":\"type\",\"type\":\"byte\",\"nullable\":false,\"metadata\":{}},{\"name\":\"size\",\"type\":\"integer\",\"nullable\":true,\"metadata\":{}},{\"name\":\"indices\",\"type\":{\"type\":\"array\",\"elementType\":\"integer\",\"containsNull\":false},\"nullable\":true,\"metadata\":{}},{\"name\":\"values\",\"type\":{\"type\":\"array\",\"elementType\":\"double\",\"containsNull\":false},\"nullable\":true,\"metadata\":{}}]}}"
        },
        {
         "metadata": "{}",
         "name": "room_type_encoded",
         "type": "{\"type\":\"udt\",\"class\":\"org.apache.spark.ml.linalg.VectorUDT\",\"pyClass\":\"pyspark.ml.linalg.VectorUDT\",\"sqlType\":{\"type\":\"struct\",\"fields\":[{\"name\":\"type\",\"type\":\"byte\",\"nullable\":false,\"metadata\":{}},{\"name\":\"size\",\"type\":\"integer\",\"nullable\":true,\"metadata\":{}},{\"name\":\"indices\",\"type\":{\"type\":\"array\",\"elementType\":\"integer\",\"containsNull\":false},\"nullable\":true,\"metadata\":{}},{\"name\":\"values\",\"type\":{\"type\":\"array\",\"elementType\":\"double\",\"containsNull\":false},\"nullable\":true,\"metadata\":{}}]}}"
        }
       ],
       "type": "table"
      }
     },
     "output_type": "display_data"
    },
    {
     "output_type": "stream",
     "name": "stdout",
     "output_type": "stream",
     "text": [
      "root\n |-- id: integer (nullable = true)\n |-- host_id: integer (nullable = true)\n |-- neighbourhood_group: string (nullable = true)\n |-- neighbourhood: string (nullable = true)\n |-- latitude: float (nullable = true)\n |-- longitude: float (nullable = true)\n |-- room_type: string (nullable = true)\n |-- price: integer (nullable = true)\n |-- minimum_nights: integer (nullable = true)\n |-- number_of_reviews: integer (nullable = true)\n |-- last_review: date (nullable = true)\n |-- reviews_per_month: float (nullable = true)\n |-- availability_365: integer (nullable = true)\n |-- neighbourhood_group_indexed: double (nullable = false)\n |-- neighbourhood_indexed: double (nullable = false)\n |-- room_type_indexed: double (nullable = false)\n |-- neighbourhood_group_encoded: vector (nullable = true)\n |-- neighbourhood_encoded: vector (nullable = true)\n |-- room_type_encoded: vector (nullable = true)\n\n"
     ]
    }
   ],
   "source": [
    "%python\n",
    "# Number of Unique values for each category - Neighbourhood, Neighbourhood_Group, Room_type\n",
    "spark.sql(\"SELECT (SELECT COUNT(DISTINCT neighbourhood) FROM airbnb_data) AS unique_neighbourhoods, (SELECT COUNT(DISTINCT neighbourhood_Group) FROM airbnb_data) AS unique_neighbourhood_groups, (SELECT COUNT(DISTINCT room_type) FROM airbnb_data) AS unique_room_types\").show()\n",
    "\n",
    "from pyspark.ml.feature import StringIndexer, OneHotEncoder\n",
    "from pyspark.ml import Pipeline\n",
    "\n",
    "# Indexing the string columns\n",
    "indexer = StringIndexer(inputCols=['neighbourhood_group', 'neighbourhood', 'room_type'],\n",
    "                        outputCols=['neighbourhood_group_indexed', 'neighbourhood_indexed', 'room_type_indexed'])\n",
    "\n",
    "# OneHotEncoding the indexed columns\n",
    "encoder = OneHotEncoder(inputCols=['neighbourhood_group_indexed', 'neighbourhood_indexed', 'room_type_indexed'], \n",
    "                        outputCols=['neighbourhood_group_encoded', 'neighbourhood_encoded', 'room_type_encoded'])\n",
    "\n",
    "# Creating a pipeline to apply both transformations\n",
    "pipeline = Pipeline(stages=[indexer, encoder])\n",
    "\n",
    "# Fitting the pipeline to the dataframe\n",
    "model = pipeline.fit(df)\n",
    "df_encoded = model.transform(df)\n",
    "\n",
    "# Display the transformed dataframe\n",
    "display(df_encoded.head(5))\n",
    "\n",
    "df_encoded.printSchema()"
   ]
  },
  {
   "cell_type": "code",
   "execution_count": 0,
   "metadata": {
    "application/vnd.databricks.v1+cell": {
     "cellMetadata": {
      "byteLimit": 2048000,
      "rowLimit": 10000
     },
     "inputWidgets": {},
     "nuid": "e6847bf0-63e6-4c98-b71d-3b87114553d2",
     "showTitle": true,
     "tableResultSettingsMap": {},
     "title": "Writing Encoded DF to GOLD stage"
    }
   },
   "outputs": [],
   "source": [
    "df.write.format(\"delta\").mode('overwrite').partitionBy(\"neighbourhood_group\").save(\"/mnt/adls12s/gold/airbnb_staged_data\")"
   ]
  }
 ],
 "metadata": {
  "application/vnd.databricks.v1+notebook": {
   "dashboards": [],
   "environmentMetadata": {
    "base_environment": "",
    "client": "1"
   },
   "language": "python",
   "notebookMetadata": {
    "pythonIndentUnit": 4
   },
   "notebookName": "airbnb-data-analysis",
   "widgets": {}
  },
  "language_info": {
   "name": "python"
  }
 },
 "nbformat": 4,
 "nbformat_minor": 0
}
