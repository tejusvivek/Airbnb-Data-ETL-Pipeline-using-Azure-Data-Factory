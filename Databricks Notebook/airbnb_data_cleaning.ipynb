{
 "cells": [
  {
   "cell_type": "code",
   "execution_count": 0,
   "metadata": {
    "application/vnd.databricks.v1+cell": {
     "cellMetadata": {
      "byteLimit": 2048000,
      "rowLimit": 10000
     },
     "inputWidgets": {},
     "nuid": "abec7e49-e408-4d8e-b343-94b077ffb2cb",
     "showTitle": true,
     "tableResultSettingsMap": {},
     "title": "Getting application credential for accessing Datalake"
    }
   },
   "outputs": [
    {
     "output_type": "display_data",
     "data": {
      "text/html": [
       "<style scoped>\n",
       "  .table-result-container {\n",
       "    max-height: 300px;\n",
       "    overflow: auto;\n",
       "  }\n",
       "  table, th, td {\n",
       "    border: 1px solid black;\n",
       "    border-collapse: collapse;\n",
       "  }\n",
       "  th, td {\n",
       "    padding: 5px;\n",
       "  }\n",
       "  th {\n",
       "    text-align: left;\n",
       "  }\n",
       "</style><div class='table-result-container'><table class='table-result'><thead style='background-color: white'><tr><th>name</th></tr></thead><tbody><tr><td>databricks-scope</td></tr><tr><td>practice</td></tr></tbody></table></div>"
      ]
     },
     "metadata": {
      "application/vnd.databricks.v1+output": {
       "addedWidgets": {},
       "aggData": [],
       "aggError": "",
       "aggOverflow": false,
       "aggSchema": [],
       "aggSeriesLimitReached": false,
       "aggType": "",
       "arguments": {},
       "columnCustomDisplayInfos": {},
       "data": [
        [
         "databricks-scope"
        ],
        [
         "practice"
        ]
       ],
       "datasetInfos": [],
       "dbfsResultPath": null,
       "isJsonSchema": true,
       "metadata": {},
       "overflow": false,
       "plotOptions": {
        "customPlotOptions": {},
        "displayType": "table",
        "pivotAggregation": null,
        "pivotColumns": null,
        "xColumns": null,
        "yColumns": null
       },
       "removedWidgets": [],
       "schema": [
        {
         "metadata": "{}",
         "name": "name",
         "type": "\"string\""
        }
       ],
       "type": "table"
      }
     },
     "output_type": "display_data"
    },
    {
     "output_type": "display_data",
     "data": {
      "text/html": [
       "<style scoped>\n",
       "  .table-result-container {\n",
       "    max-height: 300px;\n",
       "    overflow: auto;\n",
       "  }\n",
       "  table, th, td {\n",
       "    border: 1px solid black;\n",
       "    border-collapse: collapse;\n",
       "  }\n",
       "  th, td {\n",
       "    padding: 5px;\n",
       "  }\n",
       "  th {\n",
       "    text-align: left;\n",
       "  }\n",
       "</style><div class='table-result-container'><table class='table-result'><thead style='background-color: white'><tr><th>key</th></tr></thead><tbody><tr><td>adls-key</td></tr><tr><td>databricks-key</td></tr></tbody></table></div>"
      ]
     },
     "metadata": {
      "application/vnd.databricks.v1+output": {
       "addedWidgets": {},
       "aggData": [],
       "aggError": "",
       "aggOverflow": false,
       "aggSchema": [],
       "aggSeriesLimitReached": false,
       "aggType": "",
       "arguments": {},
       "columnCustomDisplayInfos": {},
       "data": [
        [
         "adls-key"
        ],
        [
         "databricks-key"
        ]
       ],
       "datasetInfos": [],
       "dbfsResultPath": null,
       "isJsonSchema": true,
       "metadata": {},
       "overflow": false,
       "plotOptions": {
        "customPlotOptions": {},
        "displayType": "table",
        "pivotAggregation": null,
        "pivotColumns": null,
        "xColumns": null,
        "yColumns": null
       },
       "removedWidgets": [],
       "schema": [
        {
         "metadata": "{}",
         "name": "key",
         "type": "\"string\""
        }
       ],
       "type": "table"
      }
     },
     "output_type": "display_data"
    },
    {
     "output_type": "stream",
     "name": "stdout",
     "output_type": "stream",
     "text": [
      "[REDACTED]\n"
     ]
    }
   ],
   "source": [
    "display(dbutils.secrets.listScopes())\n",
    "display(dbutils.secrets.list(\"practice\"))\n",
    "service_credential = dbutils.secrets.get(\"practice\", \"adls-key\")\n",
    "print(service_credential)\n",
    "\n",
    "application_id = \"bada1f1e-8aaa-4bb1-8d1b-72b6101283f6\"\n",
    "directory_id = \"4249dcf4-f4a1-44f9-940d-14b50a777dd8\"\n",
    "\n",
    "spark.conf.set(\"fs.azure.account.auth.type.adls12s.dfs.core.windows.net\", \"OAuth\")\n",
    "spark.conf.set(\"fs.azure.account.oauth.provider.type.adls12s.dfs.core.windows.net\", \"org.apache.hadoop.fs.azurebfs.oauth2.ClientCredsTokenProvider\")\n",
    "spark.conf.set(\"fs.azure.account.oauth2.client.id.adls12s.dfs.core.windows.net\", application_id)\n",
    "spark.conf.set(\"fs.azure.account.oauth2.client.secret.adls12s.dfs.core.windows.net\", service_credential)\n",
    "spark.conf.set(\"fs.azure.account.oauth2.client.endpoint.adls12s.dfs.core.windows.net\", f\"https://login.microsoftonline.com/{directory_id}/oauth2/token\")"
   ]
  },
  {
   "cell_type": "code",
   "execution_count": 0,
   "metadata": {
    "application/vnd.databricks.v1+cell": {
     "cellMetadata": {
      "byteLimit": 2048000,
      "rowLimit": 10000
     },
     "inputWidgets": {},
     "nuid": "9d10297a-784a-44b2-bf03-d9fadbd04fb1",
     "showTitle": true,
     "tableResultSettingsMap": {},
     "title": "Mounting Raw Container"
    }
   },
   "outputs": [
    {
     "output_type": "display_data",
     "data": {
      "text/html": [
       "<style scoped>\n",
       "  .table-result-container {\n",
       "    max-height: 300px;\n",
       "    overflow: auto;\n",
       "  }\n",
       "  table, th, td {\n",
       "    border: 1px solid black;\n",
       "    border-collapse: collapse;\n",
       "  }\n",
       "  th, td {\n",
       "    padding: 5px;\n",
       "  }\n",
       "  th {\n",
       "    text-align: left;\n",
       "  }\n",
       "</style><div class='table-result-container'><table class='table-result'><thead style='background-color: white'><tr><th>mountPoint</th><th>source</th><th>encryptionType</th></tr></thead><tbody><tr><td>/mnt/adls12s/gold/</td><td>abfss://gold@adls12s.dfs.core.windows.net/</td><td></td></tr><tr><td>/databricks-datasets</td><td>databricks-datasets</td><td></td></tr><tr><td>/Volumes</td><td>UnityCatalogVolumes</td><td></td></tr><tr><td>/databricks/mlflow-tracking</td><td>databricks/mlflow-tracking</td><td></td></tr><tr><td>/mnt/adls12s/source/</td><td>abfss://source@adls12s.dfs.core.windows.net/</td><td></td></tr><tr><td>/databricks-results</td><td>databricks-results</td><td></td></tr><tr><td>/databricks/mlflow-registry</td><td>databricks/mlflow-registry</td><td></td></tr><tr><td>/Volume</td><td>DbfsReserved</td><td></td></tr><tr><td>/mnt/adls2sc/raw/</td><td>abfss://raw@adls2sc.dfs.core.windows.net/</td><td></td></tr><tr><td>/volumes</td><td>DbfsReserved</td><td></td></tr><tr><td>/</td><td>DatabricksRoot</td><td></td></tr><tr><td>/volume</td><td>DbfsReserved</td><td></td></tr><tr><td>/mnt/adls12s/raw/</td><td>abfss://raw@adls12s.dfs.core.windows.net/</td><td></td></tr></tbody></table></div>"
      ]
     },
     "metadata": {
      "application/vnd.databricks.v1+output": {
       "addedWidgets": {},
       "aggData": [],
       "aggError": "",
       "aggOverflow": false,
       "aggSchema": [],
       "aggSeriesLimitReached": false,
       "aggType": "",
       "arguments": {},
       "columnCustomDisplayInfos": {},
       "data": [
        [
         "/mnt/adls12s/gold/",
         "abfss://gold@adls12s.dfs.core.windows.net/",
         ""
        ],
        [
         "/databricks-datasets",
         "databricks-datasets",
         ""
        ],
        [
         "/Volumes",
         "UnityCatalogVolumes",
         ""
        ],
        [
         "/databricks/mlflow-tracking",
         "databricks/mlflow-tracking",
         ""
        ],
        [
         "/mnt/adls12s/source/",
         "abfss://source@adls12s.dfs.core.windows.net/",
         ""
        ],
        [
         "/databricks-results",
         "databricks-results",
         ""
        ],
        [
         "/databricks/mlflow-registry",
         "databricks/mlflow-registry",
         ""
        ],
        [
         "/Volume",
         "DbfsReserved",
         ""
        ],
        [
         "/mnt/adls2sc/raw/",
         "abfss://raw@adls2sc.dfs.core.windows.net/",
         ""
        ],
        [
         "/volumes",
         "DbfsReserved",
         ""
        ],
        [
         "/",
         "DatabricksRoot",
         ""
        ],
        [
         "/volume",
         "DbfsReserved",
         ""
        ],
        [
         "/mnt/adls12s/raw/",
         "abfss://raw@adls12s.dfs.core.windows.net/",
         ""
        ]
       ],
       "datasetInfos": [],
       "dbfsResultPath": null,
       "isJsonSchema": true,
       "metadata": {},
       "overflow": false,
       "plotOptions": {
        "customPlotOptions": {},
        "displayType": "table",
        "pivotAggregation": null,
        "pivotColumns": null,
        "xColumns": null,
        "yColumns": null
       },
       "removedWidgets": [],
       "schema": [
        {
         "metadata": "{}",
         "name": "mountPoint",
         "type": "\"string\""
        },
        {
         "metadata": "{}",
         "name": "source",
         "type": "\"string\""
        },
        {
         "metadata": "{}",
         "name": "encryptionType",
         "type": "\"string\""
        }
       ],
       "type": "table"
      }
     },
     "output_type": "display_data"
    },
    {
     "output_type": "stream",
     "name": "stdout",
     "output_type": "stream",
     "text": [
      "Mount point exists\n/mnt/adls12s/raw/ has been unmounted.\nUnmounted Successfully\nMounted Successfully\n"
     ]
    }
   ],
   "source": [
    "configs = {\"fs.azure.account.auth.type\": \"OAuth\",\n",
    "          \"fs.azure.account.oauth.provider.type\": \"org.apache.hadoop.fs.azurebfs.oauth2.ClientCredsTokenProvider\",\n",
    "          \"fs.azure.account.oauth2.client.id\": application_id,\n",
    "          \"fs.azure.account.oauth2.client.secret\": service_credential,\n",
    "          \"fs.azure.account.oauth2.client.endpoint\": f\"https://login.microsoftonline.com/{directory_id}/oauth2/token\"}\n",
    "\n",
    "def checkIfMounted(mounts):\n",
    "    if(any(mount.mountPoint == \"/mnt/adls12s/raw/\" for mount in mounts )):\n",
    "        print(\"Mount point exists\")\n",
    "        dbutils.fs.unmount(\"/mnt/adls12s/raw/\")\n",
    "        print(\"Unmounted Successfully\")\n",
    "        dbutils.fs.mount(source = \"abfss://raw@adls12s.dfs.core.windows.net/\", mount_point = \"/mnt/adls12s/raw/\", extra_configs = configs)\n",
    "        print(\"Mounted Successfully\")\n",
    "    else:\n",
    "        print(\"Mount point does not exist\")\n",
    "        dbutils.fs.mount(source = \"abfss://raw@adls12s.dfs.core.windows.net/\", mount_point = \"/mnt/adls12s/raw/\", extra_configs = configs)\n",
    "        print(\"Mounted Successfully\")\n",
    "\n",
    "mountsList = dbutils.fs.mounts()\n",
    "display(mountsList)\n",
    "\n",
    "try:\n",
    "    dbutils.fs.mount(source = \"abfss://raw@adls12s.dfs.core.windows.net/\", mount_point = \"/mnt/adls12s/raw/\", extra_configs = configs)\n",
    "    print('No existing mount point found, Mounting')\n",
    "except Exception as e:\n",
    "    checkIfMounted(mountsList)"
   ]
  },
  {
   "cell_type": "code",
   "execution_count": 0,
   "metadata": {
    "application/vnd.databricks.v1+cell": {
     "cellMetadata": {
      "byteLimit": 2048000,
      "rowLimit": 10000
     },
     "inputWidgets": {},
     "nuid": "ff200111-2135-4db2-a38e-6400c5c4371f",
     "showTitle": true,
     "tableResultSettingsMap": {},
     "title": "Exploring the Data Set"
    }
   },
   "outputs": [
    {
     "output_type": "display_data",
     "data": {
      "text/html": [
       "<style scoped>\n",
       "  .table-result-container {\n",
       "    max-height: 300px;\n",
       "    overflow: auto;\n",
       "  }\n",
       "  table, th, td {\n",
       "    border: 1px solid black;\n",
       "    border-collapse: collapse;\n",
       "  }\n",
       "  th, td {\n",
       "    padding: 5px;\n",
       "  }\n",
       "  th {\n",
       "    text-align: left;\n",
       "  }\n",
       "</style><div class='table-result-container'><table class='table-result'><thead style='background-color: white'><tr><th>id</th><th>name</th><th>host_id</th><th>host_name</th><th>neighbourhood_group</th><th>neighbourhood</th><th>latitude</th><th>longitude</th><th>room_type</th><th>price</th><th>minimum_nights</th><th>number_of_reviews</th><th>last_review</th><th>reviews_per_month</th><th>calculated_host_listings_count</th><th>availability_365</th></tr></thead><tbody><tr><td>2539</td><td>Clean & quiet apt home by the park</td><td>2787</td><td>John</td><td>Brooklyn</td><td>Kensington</td><td>40.647491455078125</td><td>-73.97236633300781</td><td>Private room</td><td>149</td><td>1</td><td>9</td><td>2018-10-19</td><td>0.20999999344348907</td><td>6</td><td>365</td></tr><tr><td>2595</td><td>Skylit Midtown Castle</td><td>2845</td><td>Jennifer</td><td>Manhattan</td><td>Midtown</td><td>40.75362014770508</td><td>-73.98377227783203</td><td>Entire home/apt</td><td>225</td><td>1</td><td>45</td><td>2019-05-21</td><td>0.3799999952316284</td><td>2</td><td>355</td></tr><tr><td>3647</td><td>THE VILLAGE OF HARLEM....NEW YORK !</td><td>4632</td><td>Elisabeth</td><td>Manhattan</td><td>Harlem</td><td>40.80902099609375</td><td>-73.94190216064453</td><td>Private room</td><td>150</td><td>3</td><td>0</td><td>null</td><td>null</td><td>1</td><td>365</td></tr><tr><td>3831</td><td>Cozy Entire Floor of Brownstone</td><td>4869</td><td>LisaRoxanne</td><td>Brooklyn</td><td>Clinton Hill</td><td>40.68513870239258</td><td>-73.95976257324219</td><td>Entire home/apt</td><td>89</td><td>1</td><td>270</td><td>2019-07-05</td><td>4.639999866485596</td><td>1</td><td>194</td></tr><tr><td>5022</td><td>Entire Apt: Spacious Studio/Loft by central park</td><td>7192</td><td>Laura</td><td>Manhattan</td><td>East Harlem</td><td>40.79851150512695</td><td>-73.9439926147461</td><td>Entire home/apt</td><td>80</td><td>10</td><td>9</td><td>2018-11-19</td><td>0.10000000149011612</td><td>1</td><td>0</td></tr></tbody></table></div>"
      ]
     },
     "metadata": {
      "application/vnd.databricks.v1+output": {
       "addedWidgets": {},
       "aggData": [],
       "aggError": "",
       "aggOverflow": false,
       "aggSchema": [],
       "aggSeriesLimitReached": false,
       "aggType": "",
       "arguments": {},
       "columnCustomDisplayInfos": {},
       "data": [
        [
         2539,
         "Clean & quiet apt home by the park",
         2787,
         "John",
         "Brooklyn",
         "Kensington",
         40.647491455078125,
         -73.97236633300781,
         "Private room",
         149,
         1,
         9,
         "2018-10-19",
         0.20999999344348907,
         6,
         365
        ],
        [
         2595,
         "Skylit Midtown Castle",
         2845,
         "Jennifer",
         "Manhattan",
         "Midtown",
         40.75362014770508,
         -73.98377227783203,
         "Entire home/apt",
         225,
         1,
         45,
         "2019-05-21",
         0.3799999952316284,
         2,
         355
        ],
        [
         3647,
         "THE VILLAGE OF HARLEM....NEW YORK !",
         4632,
         "Elisabeth",
         "Manhattan",
         "Harlem",
         40.80902099609375,
         -73.94190216064453,
         "Private room",
         150,
         3,
         0,
         null,
         null,
         1,
         365
        ],
        [
         3831,
         "Cozy Entire Floor of Brownstone",
         4869,
         "LisaRoxanne",
         "Brooklyn",
         "Clinton Hill",
         40.68513870239258,
         -73.95976257324219,
         "Entire home/apt",
         89,
         1,
         270,
         "2019-07-05",
         4.639999866485596,
         1,
         194
        ],
        [
         5022,
         "Entire Apt: Spacious Studio/Loft by central park",
         7192,
         "Laura",
         "Manhattan",
         "East Harlem",
         40.79851150512695,
         -73.9439926147461,
         "Entire home/apt",
         80,
         10,
         9,
         "2018-11-19",
         0.10000000149011612,
         1,
         0
        ]
       ],
       "datasetInfos": [],
       "dbfsResultPath": null,
       "isJsonSchema": true,
       "metadata": {},
       "overflow": false,
       "plotOptions": {
        "customPlotOptions": {},
        "displayType": "table",
        "pivotAggregation": null,
        "pivotColumns": null,
        "xColumns": null,
        "yColumns": null
       },
       "removedWidgets": [],
       "schema": [
        {
         "metadata": "{}",
         "name": "id",
         "type": "\"long\""
        },
        {
         "metadata": "{}",
         "name": "name",
         "type": "\"string\""
        },
        {
         "metadata": "{}",
         "name": "host_id",
         "type": "\"long\""
        },
        {
         "metadata": "{}",
         "name": "host_name",
         "type": "\"string\""
        },
        {
         "metadata": "{}",
         "name": "neighbourhood_group",
         "type": "\"string\""
        },
        {
         "metadata": "{}",
         "name": "neighbourhood",
         "type": "\"string\""
        },
        {
         "metadata": "{}",
         "name": "latitude",
         "type": "\"double\""
        },
        {
         "metadata": "{}",
         "name": "longitude",
         "type": "\"double\""
        },
        {
         "metadata": "{}",
         "name": "room_type",
         "type": "\"string\""
        },
        {
         "metadata": "{}",
         "name": "price",
         "type": "\"long\""
        },
        {
         "metadata": "{}",
         "name": "minimum_nights",
         "type": "\"long\""
        },
        {
         "metadata": "{}",
         "name": "number_of_reviews",
         "type": "\"long\""
        },
        {
         "metadata": "{}",
         "name": "last_review",
         "type": "\"date\""
        },
        {
         "metadata": "{}",
         "name": "reviews_per_month",
         "type": "\"double\""
        },
        {
         "metadata": "{}",
         "name": "calculated_host_listings_count",
         "type": "\"long\""
        },
        {
         "metadata": "{}",
         "name": "availability_365",
         "type": "\"long\""
        }
       ],
       "type": "table"
      }
     },
     "output_type": "display_data"
    },
    {
     "output_type": "display_data",
     "data": {
      "text/html": [
       "<style scoped>\n",
       "  .table-result-container {\n",
       "    max-height: 300px;\n",
       "    overflow: auto;\n",
       "  }\n",
       "  table, th, td {\n",
       "    border: 1px solid black;\n",
       "    border-collapse: collapse;\n",
       "  }\n",
       "  th, td {\n",
       "    padding: 5px;\n",
       "  }\n",
       "  th {\n",
       "    text-align: left;\n",
       "  }\n",
       "</style><div class='table-result-container'><table class='table-result'><thead style='background-color: white'><tr><th>summary</th><th>id</th><th>name</th><th>host_id</th><th>host_name</th><th>neighbourhood_group</th><th>neighbourhood</th><th>latitude</th><th>longitude</th><th>room_type</th><th>price</th><th>minimum_nights</th><th>number_of_reviews</th><th>reviews_per_month</th><th>calculated_host_listings_count</th><th>availability_365</th></tr></thead><tbody><tr><td>count</td><td>48889</td><td>49042</td><td>48729</td><td>48868</td><td>48889</td><td>48889</td><td>48885</td><td>48732</td><td>48889</td><td>48886</td><td>48887</td><td>48732</td><td>38858</td><td>48885</td><td>48731</td></tr><tr><td>mean</td><td>1.9016769263678946E7</td><td>1.02037532075E8</td><td>6.749591589946438E7</td><td>NaN</td><td>9.8700230823495E7</td><td>40.007362675159236</td><td>40.36302551530165</td><td>-73.94211531636516</td><td>153.4116304375</td><td>152.22910444708097</td><td>7.120441017039295</td><td>23.257613067388984</td><td>1.383749806789856</td><td>7.654597524803109</td><td>112.61170507479838</td></tr><tr><td>stddev</td><td>1.098279572074488E7</td><td>8.709090084371348E7</td><td>7.855358174017501E7</td><td>NaN</td><td>1.395831475564171E8</td><td>9.163872354104724</td><td>6.467103792263658</td><td>1.4037923691806642</td><td>512.1846329459124</td><td>238.54053086016683</td><td>20.80626648438555</td><td>44.55781343932858</td><td>2.504724514613329</td><td>34.823823045226966</td><td>131.6121077449069</td></tr><tr><td>min</td><td>2539</td><td> 1 Bed Apt in Utopic Williamsburg </td><td>2438</td><td>#NAME?</td><td>197400421</td><td>-74.08151</td><td>-74.16254</td><td>-74.24442</td><td>-73.90783</td><td>0</td><td>0</td><td>0</td><td>0.0</td><td>0</td><td>0</td></tr><tr><td>25%</td><td>9471997</td><td>2.4544724E7</td><td>7788268</td><td>475.0</td><td>40.64699</td><td>40.68771</td><td>40.68982</td><td>-73.98311</td><td>59.0</td><td>69</td><td>1</td><td>1</td><td>0.19</td><td>1</td><td>0</td></tr><tr><td>50%</td><td>19677579</td><td>7.1886811E7</td><td>30671432</td><td>5.1024536E7</td><td>40.64699</td><td>40.74557</td><td>40.7228</td><td>-73.95572</td><td>86.0</td><td>105</td><td>3</td><td>5</td><td>0.72</td><td>1</td><td>44</td></tr><tr><td>75%</td><td>29152037</td><td>1.74786681E8</td><td>107434423</td><td>NaN</td><td>1.97400421E8</td><td>40.78304</td><td>40.76299</td><td>-73.9364</td><td>145.0</td><td>175</td><td>5</td><td>23</td><td>2.01</td><td>2</td><td>226</td></tr><tr><td>max</td><td>36487245</td><td>ﾏﾝﾊｯﾀﾝ､駅から徒歩4分でどこに行くのにも便利な場所!女性の方希望,ｷﾚｲなお部屋｡</td><td>274321313</td><td>현선</td><td>Woodside</td><td>Woodside</td><td>40.91306</td><td>190.0</td><td>Shared room</td><td>10000</td><td>1250</td><td>629</td><td>365.0</td><td>365</td><td>365</td></tr></tbody></table></div>"
      ]
     },
     "metadata": {
      "application/vnd.databricks.v1+output": {
       "addedWidgets": {},
       "aggData": [],
       "aggError": "",
       "aggOverflow": false,
       "aggSchema": [],
       "aggSeriesLimitReached": false,
       "aggType": "",
       "arguments": {},
       "columnCustomDisplayInfos": {},
       "data": [
        [
         "count",
         "48889",
         "49042",
         "48729",
         "48868",
         "48889",
         "48889",
         "48885",
         "48732",
         "48889",
         "48886",
         "48887",
         "48732",
         "38858",
         "48885",
         "48731"
        ],
        [
         "mean",
         "1.9016769263678946E7",
         "1.02037532075E8",
         "6.749591589946438E7",
         "NaN",
         "9.8700230823495E7",
         "40.007362675159236",
         "40.36302551530165",
         "-73.94211531636516",
         "153.4116304375",
         "152.22910444708097",
         "7.120441017039295",
         "23.257613067388984",
         "1.383749806789856",
         "7.654597524803109",
         "112.61170507479838"
        ],
        [
         "stddev",
         "1.098279572074488E7",
         "8.709090084371348E7",
         "7.855358174017501E7",
         "NaN",
         "1.395831475564171E8",
         "9.163872354104724",
         "6.467103792263658",
         "1.4037923691806642",
         "512.1846329459124",
         "238.54053086016683",
         "20.80626648438555",
         "44.55781343932858",
         "2.504724514613329",
         "34.823823045226966",
         "131.6121077449069"
        ],
        [
         "min",
         "2539",
         " 1 Bed Apt in Utopic Williamsburg ",
         "2438",
         "#NAME?",
         "197400421",
         "-74.08151",
         "-74.16254",
         "-74.24442",
         "-73.90783",
         "0",
         "0",
         "0",
         "0.0",
         "0",
         "0"
        ],
        [
         "25%",
         "9471997",
         "2.4544724E7",
         "7788268",
         "475.0",
         "40.64699",
         "40.68771",
         "40.68982",
         "-73.98311",
         "59.0",
         "69",
         "1",
         "1",
         "0.19",
         "1",
         "0"
        ],
        [
         "50%",
         "19677579",
         "7.1886811E7",
         "30671432",
         "5.1024536E7",
         "40.64699",
         "40.74557",
         "40.7228",
         "-73.95572",
         "86.0",
         "105",
         "3",
         "5",
         "0.72",
         "1",
         "44"
        ],
        [
         "75%",
         "29152037",
         "1.74786681E8",
         "107434423",
         "NaN",
         "1.97400421E8",
         "40.78304",
         "40.76299",
         "-73.9364",
         "145.0",
         "175",
         "5",
         "23",
         "2.01",
         "2",
         "226"
        ],
        [
         "max",
         "36487245",
         "ﾏﾝﾊｯﾀﾝ､駅から徒歩4分でどこに行くのにも便利な場所!女性の方希望,ｷﾚｲなお部屋｡",
         "274321313",
         "현선",
         "Woodside",
         "Woodside",
         "40.91306",
         "190.0",
         "Shared room",
         "10000",
         "1250",
         "629",
         "365.0",
         "365",
         "365"
        ]
       ],
       "datasetInfos": [],
       "dbfsResultPath": null,
       "isJsonSchema": true,
       "metadata": {},
       "overflow": false,
       "plotOptions": {
        "customPlotOptions": {},
        "displayType": "table",
        "pivotAggregation": null,
        "pivotColumns": null,
        "xColumns": null,
        "yColumns": null
       },
       "removedWidgets": [],
       "schema": [
        {
         "metadata": "{}",
         "name": "summary",
         "type": "\"string\""
        },
        {
         "metadata": "{}",
         "name": "id",
         "type": "\"string\""
        },
        {
         "metadata": "{}",
         "name": "name",
         "type": "\"string\""
        },
        {
         "metadata": "{}",
         "name": "host_id",
         "type": "\"string\""
        },
        {
         "metadata": "{}",
         "name": "host_name",
         "type": "\"string\""
        },
        {
         "metadata": "{}",
         "name": "neighbourhood_group",
         "type": "\"string\""
        },
        {
         "metadata": "{}",
         "name": "neighbourhood",
         "type": "\"string\""
        },
        {
         "metadata": "{}",
         "name": "latitude",
         "type": "\"string\""
        },
        {
         "metadata": "{}",
         "name": "longitude",
         "type": "\"string\""
        },
        {
         "metadata": "{}",
         "name": "room_type",
         "type": "\"string\""
        },
        {
         "metadata": "{}",
         "name": "price",
         "type": "\"string\""
        },
        {
         "metadata": "{}",
         "name": "minimum_nights",
         "type": "\"string\""
        },
        {
         "metadata": "{}",
         "name": "number_of_reviews",
         "type": "\"string\""
        },
        {
         "metadata": "{}",
         "name": "reviews_per_month",
         "type": "\"string\""
        },
        {
         "metadata": "{}",
         "name": "calculated_host_listings_count",
         "type": "\"string\""
        },
        {
         "metadata": "{}",
         "name": "availability_365",
         "type": "\"string\""
        }
       ],
       "type": "table"
      }
     },
     "output_type": "display_data"
    },
    {
     "output_type": "stream",
     "name": "stdout",
     "output_type": "stream",
     "text": [
      "<class 'pandas.core.frame.DataFrame'>\nRangeIndex: 49073 entries, 0 to 49072\nData columns (total 16 columns):\n #   Column                          Non-Null Count  Dtype  \n---  ------                          --------------  -----  \n 0   id                              48889 non-null  float64\n 1   name                            49042 non-null  object \n 2   host_id                         48729 non-null  float64\n 3   host_name                       48868 non-null  object \n 4   neighbourhood_group             48889 non-null  object \n 5   neighbourhood                   48889 non-null  object \n 6   latitude                        48885 non-null  float32\n 7   longitude                       48732 non-null  float32\n 8   room_type                       48889 non-null  object \n 9   price                           48886 non-null  float64\n 10  minimum_nights                  48887 non-null  float64\n 11  number_of_reviews               48732 non-null  float64\n 12  last_review                     38700 non-null  object \n 13  reviews_per_month               38858 non-null  float32\n 14  calculated_host_listings_count  48885 non-null  float64\n 15  availability_365                48731 non-null  float64\ndtypes: float32(3), float64(7), object(6)\nmemory usage: 5.4+ MB\n"
     ]
    },
    {
     "output_type": "execute_result",
     "data": {
      "text/plain": [
       "(49073, 16)"
      ]
     },
     "execution_count": 10,
     "metadata": {},
     "output_type": "execute_result"
    }
   ],
   "source": [
    "from pyspark.sql.types import StructField, StructType, StringType, IntegerType, DateType, TimestampType, FloatType\n",
    "schema = StructType([StructField(\"id\", IntegerType(), True),\n",
    "                     StructField(\"name\", StringType(), True),\n",
    "                     StructField(\"host_id\", IntegerType(), True),\n",
    "                     StructField(\"host_name\", StringType(), True),\n",
    "                     StructField(\"neighbourhood_group\", StringType(), True),\n",
    "                     StructField(\"neighbourhood\", StringType(), True),\n",
    "                     StructField(\"latitude\", FloatType(), True),\n",
    "                     StructField(\"longitude\", FloatType(), True),\n",
    "                     StructField(\"room_type\", StringType(), True),\n",
    "                     StructField(\"price\", IntegerType(), True),\n",
    "                     StructField(\"minimum_nights\", IntegerType(), True),\n",
    "                     StructField(\"number_of_reviews\", IntegerType(), True),\n",
    "                     StructField(\"last_review\", DateType(), True),\n",
    "                     StructField(\"reviews_per_month\", FloatType(), True),\n",
    "                     StructField(\"calculated_host_listings_count\", IntegerType(), True),\n",
    "                     StructField(\"availability_365\", IntegerType(), True)])\n",
    "\n",
    "#Load the unclean airbnb data set\n",
    "df = spark.read.csv(f\"/mnt/adls12s/raw/{dbutils.fs.ls('/mnt/adls12s/raw/')[-1].name}\", schema=schema, header = True)\n",
    "\n",
    "#Check Statistics of the data set\n",
    "display(df.head(5))\n",
    "display(df.summary())\n",
    "df.toPandas().info()\n",
    "\n",
    "\n",
    "#Checking number of Null records in each column\n",
    "df.toPandas().isnull().sum()\n",
    "\n",
    "#Check the shape of the dataset\n",
    "df.toPandas().shape\n"
   ]
  },
  {
   "cell_type": "code",
   "execution_count": 0,
   "metadata": {
    "application/vnd.databricks.v1+cell": {
     "cellMetadata": {
      "byteLimit": 2048000,
      "rowLimit": 10000
     },
     "inputWidgets": {},
     "nuid": "60f567b4-c470-47db-83a3-57a28f1df0a3",
     "showTitle": true,
     "tableResultSettingsMap": {
      "0": {
       "filterBlob": "{\"filterGroups\":[],\"syncTimestamp\":1733283551964}",
       "tableResultIndex": 0
      }
     },
     "title": "Taking data from BRONZE to SILVER"
    }
   },
   "outputs": [
    {
     "output_type": "display_data",
     "data": {
      "text/html": [
       "<style scoped>\n",
       "  .table-result-container {\n",
       "    max-height: 300px;\n",
       "    overflow: auto;\n",
       "  }\n",
       "  table, th, td {\n",
       "    border: 1px solid black;\n",
       "    border-collapse: collapse;\n",
       "  }\n",
       "  th, td {\n",
       "    padding: 5px;\n",
       "  }\n",
       "  th {\n",
       "    text-align: left;\n",
       "  }\n",
       "</style><div class='table-result-container'><table class='table-result'><thead style='background-color: white'><tr><th>id</th><th>name</th><th>host_id</th><th>host_name</th><th>neighbourhood_group</th><th>neighbourhood</th><th>latitude</th><th>longitude</th><th>room_type</th><th>price</th><th>minimum_nights</th><th>number_of_reviews</th><th>last_review</th><th>reviews_per_month</th><th>calculated_host_listings_count</th><th>availability_365</th></tr></thead><tbody><tr><td>2539</td><td>Clean & quiet apt home by the park</td><td>2787</td><td>John</td><td>Brooklyn</td><td>Kensington</td><td>40.647491455078125</td><td>-73.97236633300781</td><td>Private room</td><td>149</td><td>1</td><td>9</td><td>2018-10-19</td><td>0.20999999344348907</td><td>6</td><td>365</td></tr><tr><td>2595</td><td>Skylit Midtown Castle</td><td>2845</td><td>Jennifer</td><td>Manhattan</td><td>Midtown</td><td>40.75362014770508</td><td>-73.98377227783203</td><td>Entire home/apt</td><td>225</td><td>1</td><td>45</td><td>2019-05-21</td><td>0.3799999952316284</td><td>2</td><td>355</td></tr><tr><td>3831</td><td>Cozy Entire Floor of Brownstone</td><td>4869</td><td>LisaRoxanne</td><td>Brooklyn</td><td>Clinton Hill</td><td>40.68513870239258</td><td>-73.95976257324219</td><td>Entire home/apt</td><td>89</td><td>1</td><td>270</td><td>2019-07-05</td><td>4.639999866485596</td><td>1</td><td>194</td></tr><tr><td>5022</td><td>Entire Apt: Spacious Studio/Loft by central park</td><td>7192</td><td>Laura</td><td>Manhattan</td><td>East Harlem</td><td>40.79851150512695</td><td>-73.9439926147461</td><td>Entire home/apt</td><td>80</td><td>10</td><td>9</td><td>2018-11-19</td><td>0.10000000149011612</td><td>1</td><td>0</td></tr><tr><td>5099</td><td>Large Cozy 1 BR Apartment In Midtown East</td><td>7322</td><td>Chris</td><td>Manhattan</td><td>Murray Hill</td><td>40.7476692199707</td><td>-73.9749984741211</td><td>Entire home/apt</td><td>200</td><td>3</td><td>74</td><td>2019-06-22</td><td>0.5899999737739563</td><td>1</td><td>129</td></tr></tbody></table></div>"
      ]
     },
     "metadata": {
      "application/vnd.databricks.v1+output": {
       "addedWidgets": {},
       "aggData": [],
       "aggError": "",
       "aggOverflow": false,
       "aggSchema": [],
       "aggSeriesLimitReached": false,
       "aggType": "",
       "arguments": {},
       "columnCustomDisplayInfos": {},
       "data": [
        [
         2539,
         "Clean & quiet apt home by the park",
         2787,
         "John",
         "Brooklyn",
         "Kensington",
         40.647491455078125,
         -73.97236633300781,
         "Private room",
         149,
         1,
         9,
         "2018-10-19",
         0.20999999344348907,
         6,
         365
        ],
        [
         2595,
         "Skylit Midtown Castle",
         2845,
         "Jennifer",
         "Manhattan",
         "Midtown",
         40.75362014770508,
         -73.98377227783203,
         "Entire home/apt",
         225,
         1,
         45,
         "2019-05-21",
         0.3799999952316284,
         2,
         355
        ],
        [
         3831,
         "Cozy Entire Floor of Brownstone",
         4869,
         "LisaRoxanne",
         "Brooklyn",
         "Clinton Hill",
         40.68513870239258,
         -73.95976257324219,
         "Entire home/apt",
         89,
         1,
         270,
         "2019-07-05",
         4.639999866485596,
         1,
         194
        ],
        [
         5022,
         "Entire Apt: Spacious Studio/Loft by central park",
         7192,
         "Laura",
         "Manhattan",
         "East Harlem",
         40.79851150512695,
         -73.9439926147461,
         "Entire home/apt",
         80,
         10,
         9,
         "2018-11-19",
         0.10000000149011612,
         1,
         0
        ],
        [
         5099,
         "Large Cozy 1 BR Apartment In Midtown East",
         7322,
         "Chris",
         "Manhattan",
         "Murray Hill",
         40.7476692199707,
         -73.9749984741211,
         "Entire home/apt",
         200,
         3,
         74,
         "2019-06-22",
         0.5899999737739563,
         1,
         129
        ]
       ],
       "datasetInfos": [],
       "dbfsResultPath": null,
       "isJsonSchema": true,
       "metadata": {},
       "overflow": false,
       "plotOptions": {
        "customPlotOptions": {},
        "displayType": "table",
        "pivotAggregation": null,
        "pivotColumns": null,
        "xColumns": null,
        "yColumns": null
       },
       "removedWidgets": [],
       "schema": [
        {
         "metadata": "{}",
         "name": "id",
         "type": "\"long\""
        },
        {
         "metadata": "{}",
         "name": "name",
         "type": "\"string\""
        },
        {
         "metadata": "{}",
         "name": "host_id",
         "type": "\"long\""
        },
        {
         "metadata": "{}",
         "name": "host_name",
         "type": "\"string\""
        },
        {
         "metadata": "{}",
         "name": "neighbourhood_group",
         "type": "\"string\""
        },
        {
         "metadata": "{}",
         "name": "neighbourhood",
         "type": "\"string\""
        },
        {
         "metadata": "{}",
         "name": "latitude",
         "type": "\"double\""
        },
        {
         "metadata": "{}",
         "name": "longitude",
         "type": "\"double\""
        },
        {
         "metadata": "{}",
         "name": "room_type",
         "type": "\"string\""
        },
        {
         "metadata": "{}",
         "name": "price",
         "type": "\"long\""
        },
        {
         "metadata": "{}",
         "name": "minimum_nights",
         "type": "\"long\""
        },
        {
         "metadata": "{}",
         "name": "number_of_reviews",
         "type": "\"long\""
        },
        {
         "metadata": "{}",
         "name": "last_review",
         "type": "\"date\""
        },
        {
         "metadata": "{}",
         "name": "reviews_per_month",
         "type": "\"double\""
        },
        {
         "metadata": "{}",
         "name": "calculated_host_listings_count",
         "type": "\"long\""
        },
        {
         "metadata": "{}",
         "name": "availability_365",
         "type": "\"long\""
        }
       ],
       "type": "table"
      }
     },
     "output_type": "display_data"
    },
    {
     "output_type": "display_data",
     "data": {
      "text/html": [
       "<style scoped>\n",
       "  .table-result-container {\n",
       "    max-height: 300px;\n",
       "    overflow: auto;\n",
       "  }\n",
       "  table, th, td {\n",
       "    border: 1px solid black;\n",
       "    border-collapse: collapse;\n",
       "  }\n",
       "  th, td {\n",
       "    padding: 5px;\n",
       "  }\n",
       "  th {\n",
       "    text-align: left;\n",
       "  }\n",
       "</style><div class='table-result-container'><table class='table-result'><thead style='background-color: white'><tr><th>id</th><th>host_id</th><th>neighbourhood_group</th><th>neighbourhood</th><th>latitude</th><th>longitude</th><th>room_type</th><th>price</th><th>minimum_nights</th><th>number_of_reviews</th><th>last_review</th><th>reviews_per_month</th><th>availability_365</th></tr></thead><tbody><tr><td>2539</td><td>2787</td><td>Brooklyn</td><td>Kensington</td><td>40.647491455078125</td><td>-73.97236633300781</td><td>Private room</td><td>149</td><td>1</td><td>9</td><td>2018-10-19</td><td>0.20999999344348907</td><td>365</td></tr><tr><td>2595</td><td>2845</td><td>Manhattan</td><td>Midtown</td><td>40.75362014770508</td><td>-73.98377227783203</td><td>Entire home/apt</td><td>225</td><td>1</td><td>45</td><td>2019-05-21</td><td>0.3799999952316284</td><td>355</td></tr><tr><td>3831</td><td>4869</td><td>Brooklyn</td><td>Clinton Hill</td><td>40.68513870239258</td><td>-73.95976257324219</td><td>Entire home/apt</td><td>89</td><td>1</td><td>270</td><td>2019-07-05</td><td>4.639999866485596</td><td>194</td></tr><tr><td>5022</td><td>7192</td><td>Manhattan</td><td>East Harlem</td><td>40.79851150512695</td><td>-73.9439926147461</td><td>Entire home/apt</td><td>80</td><td>10</td><td>9</td><td>2018-11-19</td><td>0.10000000149011612</td><td>0</td></tr><tr><td>5099</td><td>7322</td><td>Manhattan</td><td>Murray Hill</td><td>40.7476692199707</td><td>-73.9749984741211</td><td>Entire home/apt</td><td>200</td><td>3</td><td>74</td><td>2019-06-22</td><td>0.5899999737739563</td><td>129</td></tr></tbody></table></div>"
      ]
     },
     "metadata": {
      "application/vnd.databricks.v1+output": {
       "addedWidgets": {},
       "aggData": [],
       "aggError": "",
       "aggOverflow": false,
       "aggSchema": [],
       "aggSeriesLimitReached": false,
       "aggType": "",
       "arguments": {},
       "columnCustomDisplayInfos": {},
       "data": [
        [
         2539,
         2787,
         "Brooklyn",
         "Kensington",
         40.647491455078125,
         -73.97236633300781,
         "Private room",
         149,
         1,
         9,
         "2018-10-19",
         0.20999999344348907,
         365
        ],
        [
         2595,
         2845,
         "Manhattan",
         "Midtown",
         40.75362014770508,
         -73.98377227783203,
         "Entire home/apt",
         225,
         1,
         45,
         "2019-05-21",
         0.3799999952316284,
         355
        ],
        [
         3831,
         4869,
         "Brooklyn",
         "Clinton Hill",
         40.68513870239258,
         -73.95976257324219,
         "Entire home/apt",
         89,
         1,
         270,
         "2019-07-05",
         4.639999866485596,
         194
        ],
        [
         5022,
         7192,
         "Manhattan",
         "East Harlem",
         40.79851150512695,
         -73.9439926147461,
         "Entire home/apt",
         80,
         10,
         9,
         "2018-11-19",
         0.10000000149011612,
         0
        ],
        [
         5099,
         7322,
         "Manhattan",
         "Murray Hill",
         40.7476692199707,
         -73.9749984741211,
         "Entire home/apt",
         200,
         3,
         74,
         "2019-06-22",
         0.5899999737739563,
         129
        ]
       ],
       "datasetInfos": [],
       "dbfsResultPath": null,
       "isJsonSchema": true,
       "metadata": {},
       "overflow": false,
       "plotOptions": {
        "customPlotOptions": {},
        "displayType": "table",
        "pivotAggregation": null,
        "pivotColumns": null,
        "xColumns": null,
        "yColumns": null
       },
       "removedWidgets": [],
       "schema": [
        {
         "metadata": "{}",
         "name": "id",
         "type": "\"long\""
        },
        {
         "metadata": "{}",
         "name": "host_id",
         "type": "\"long\""
        },
        {
         "metadata": "{}",
         "name": "neighbourhood_group",
         "type": "\"string\""
        },
        {
         "metadata": "{}",
         "name": "neighbourhood",
         "type": "\"string\""
        },
        {
         "metadata": "{}",
         "name": "latitude",
         "type": "\"double\""
        },
        {
         "metadata": "{}",
         "name": "longitude",
         "type": "\"double\""
        },
        {
         "metadata": "{}",
         "name": "room_type",
         "type": "\"string\""
        },
        {
         "metadata": "{}",
         "name": "price",
         "type": "\"long\""
        },
        {
         "metadata": "{}",
         "name": "minimum_nights",
         "type": "\"long\""
        },
        {
         "metadata": "{}",
         "name": "number_of_reviews",
         "type": "\"long\""
        },
        {
         "metadata": "{}",
         "name": "last_review",
         "type": "\"date\""
        },
        {
         "metadata": "{}",
         "name": "reviews_per_month",
         "type": "\"double\""
        },
        {
         "metadata": "{}",
         "name": "availability_365",
         "type": "\"long\""
        }
       ],
       "type": "table"
      }
     },
     "output_type": "display_data"
    }
   ],
   "source": [
    "#Dropping all null rows in dataset\n",
    "temp_df = df.dropna()\n",
    "display(temp_df.head(5))\n",
    "temp_df.toPandas().isnull().sum()\n",
    "\n",
    "#Keeping only required columns, by dropping name, latitude, longitude, calculated_host_listings_count\n",
    "temp_df = temp_df.drop(\"name\", \"host_name\", \"calculated_host_listings_count\")\n",
    "display(temp_df.head(5))\n",
    "\n",
    "#Cleaned dataset\n",
    "cleaned_df = temp_df\n"
   ]
  },
  {
   "cell_type": "code",
   "execution_count": 0,
   "metadata": {
    "application/vnd.databricks.v1+cell": {
     "cellMetadata": {
      "byteLimit": 2048000,
      "rowLimit": 10000
     },
     "inputWidgets": {},
     "nuid": "08a4a183-abbe-4237-af5e-227aea6d027b",
     "showTitle": true,
     "tableResultSettingsMap": {},
     "title": "Writing data to SILVER stage"
    }
   },
   "outputs": [],
   "source": [
    "cleaned_df.write.format(\"delta\").mode(\"overwrite\").partitionBy(\"neighbourhood_group\").save(\"abfss://silver@adls12s.dfs.core.windows.net/airbnb_cleaned_data\")"
   ]
  }
 ],
 "metadata": {
  "application/vnd.databricks.v1+notebook": {
   "dashboards": [],
   "environmentMetadata": {
    "base_environment": "",
    "client": "1"
   },
   "language": "python",
   "notebookMetadata": {
    "pythonIndentUnit": 4
   },
   "notebookName": "airbnb_data_cleaning",
   "widgets": {}
  },
  "language_info": {
   "name": "python"
  }
 },
 "nbformat": 4,
 "nbformat_minor": 0
}
